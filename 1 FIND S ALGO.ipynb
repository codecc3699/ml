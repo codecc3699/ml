{
 "cells": [
  {
   "cell_type": "code",
   "execution_count": 12,
   "id": "0eb703f3-f562-48e2-8132-0a2b5ef479d1",
   "metadata": {},
   "outputs": [
    {
     "name": "stdout",
     "output_type": "stream",
     "text": [
      "[\"'sunny'\", \"'warm'\", \"'normal'\", \"'strong'\", \"'warm'\", \"'same'\", 'TRUE']\n",
      "[\"'sunny'\", \"'warm'\", \"'high'\", \"'strong'\", \"'warm'\", \"'same'\", 'TRUE']\n",
      "[\"'rainy'\", \"'cold'\", \"'high'\", \"'strong'\", \"'warm'\", \"'change'\", 'FALSE']\n",
      "[\"'sunny'\", \"'warm'\", \"'high'\", \"'strong'\", \"'cool'\", \"'change'\", 'TRUE']\n",
      "The maximally specific hypothesis for a given training example is:\n",
      "[[\"'sunny'\", \"'warm'\", '?', \"'strong'\", '?', '?']]\n"
     ]
    },
    {
     "name": "stderr",
     "output_type": "stream",
     "text": [
      "<>:3: SyntaxWarning: invalid escape sequence '\\j'\n",
      "<>:3: SyntaxWarning: invalid escape sequence '\\j'\n",
      "C:\\Users\\manoj\\AppData\\Local\\Temp\\ipykernel_18128\\3310780509.py:3: SyntaxWarning: invalid escape sequence '\\j'\n",
      "  with open('D:\\jb\\P1_data.csv', 'r') as f:\n"
     ]
    }
   ],
   "source": [
    "import csv\n",
    "\n",
    "with open('D:\\jb\\P1_data.csv', 'r') as f:\n",
    "    reader = csv.reader(f)\n",
    "    headers = next(reader)\n",
    "    your_list = list(reader)\n",
    "\n",
    "h = [['0', '0', '0', '0', '0', '0']]\n",
    "\n",
    "for i in your_list:\n",
    "    print(i)\n",
    "    if i[-1] == \"TRUE\":\n",
    "        j = 0\n",
    "        for x in i:\n",
    "            if x != \"TRUE\":\n",
    "                if x != h[0][j] and h[0][j] == '0':\n",
    "                    h[0][j] = x\n",
    "                elif x != h[0][j] and h[0][j] != '0':\n",
    "                    h[0][j] = '?'\n",
    "                else:\n",
    "                    pass\n",
    "                j = j + 1\n",
    "\n",
    "print(\"The maximally specific hypothesis for a given training example is:\")\n",
    "print(h)\n"
   ]
  },
  {
   "cell_type": "code",
   "execution_count": null,
   "id": "6cf1741d-3e84-4382-b94f-20864e3750f4",
   "metadata": {},
   "outputs": [],
   "source": []
  },
  {
   "cell_type": "code",
   "execution_count": null,
   "id": "6b818be0-632e-48ae-a607-1ac84323c282",
   "metadata": {},
   "outputs": [],
   "source": []
  }
 ],
 "metadata": {
  "kernelspec": {
   "display_name": "Python 3 (ipykernel)",
   "language": "python",
   "name": "python3"
  },
  "language_info": {
   "codemirror_mode": {
    "name": "ipython",
    "version": 3
   },
   "file_extension": ".py",
   "mimetype": "text/x-python",
   "name": "python",
   "nbconvert_exporter": "python",
   "pygments_lexer": "ipython3",
   "version": "3.12.1"
  }
 },
 "nbformat": 4,
 "nbformat_minor": 5
}
